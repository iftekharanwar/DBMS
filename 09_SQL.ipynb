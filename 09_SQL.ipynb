{
 "cells": [
  {
   "cell_type": "markdown",
   "metadata": {},
   "source": [
    "# SQL and RDBMS\n",
    "- **SQL** is the language used for performing operations on data within a database, including CRUD (Create, Read, Update, Delete) operations.\n",
    "- **RDBMS** (Relational Database Management System) is software that implements a relational model for database management. Examples include MySQL, Oracle, and MS SQL.\n",
    "\n",
    "### SQL Data Types\n",
    "The document lists various SQL data types, including `CHAR`, `VARCHAR`, `TEXT`, and numeric types like `INT` and `FLOAT`. These types dictate the kind of data that can be stored in a table's column.\n",
    "\n",
    "### SQL Commands Categories\n",
    "SQL commands are categorized for easier understanding and implementation:\n",
    "- **DDL (Data Definition Language):** Commands like `CREATE`, `ALTER`, and `DROP` that define and modify database schema.\n",
    "- **DRL/DQL (Data Retrieval Language/Data Query Language):** Primarily involves the `SELECT` command to retrieve data.\n",
    "- **DML (Data Modification Language):** Includes `INSERT`, `UPDATE`, and `DELETE` for modifying data.\n",
    "- **DCL (Data Control Language):** Commands like `GRANT` and `REVOKE` for managing user permissions.\n",
    "- **TCL (Transaction Control Language):** Manages transactions with commands like `START TRANSACTION`, `COMMIT`, and `ROLLBACK`.\n",
    "\n",
    "### Key SQL Operations and Clauses\n",
    "- **Data Manipulation and Retrieval:** The document elaborates on retrieving data (`SELECT`), filtering data (`WHERE`, `IN`, `BETWEEN`, `LIKE`), sorting (`ORDER BY`), and grouping data (`GROUP BY`).\n",
    "- **JOIN Operations:** Explains how to combine data from multiple tables using various `JOIN` types, including `INNER JOIN`, `LEFT JOIN`, `RIGHT JOIN`, and `FULL JOIN`.\n",
    "- **Set Operations:** Discusses combining results from multiple `SELECT` statements using operations like `UNION` and `INTERSECT`.\n",
    "\n",
    "### Constraints\n",
    "Defines rules to ensure data integrity, including `PRIMARY KEY`, `FOREIGN KEY`, `UNIQUE`, `CHECK`, and `DEFAULT` constraints.\n",
    "\n",
    "### Managing Databases and Tables\n",
    "Instructions for creating, using, altering, and dropping databases and tables, including how to select a database for operations and list all databases or tables within a database.\n",
    "\n",
    "### Advanced SQL Features\n",
    "- **Subqueries:** Utilizing queries within queries to perform complex data retrieval.\n",
    "- **Joins vs Sub-Queries:** Comparison of performance and usage contexts.\n",
    "- **Views:** Creating virtual tables (`CREATE VIEW`) to simplify complex queries.\n",
    "\n",
    "### Conclusion\n",
    "The document encapsulates a broad spectrum of SQL functionalities essential for database management, from basic CRUD operations to complex queries involving joins, subqueries, and set operations. Understanding these concepts is crucial for anyone working with relational databases, providing the foundation needed to store, manipulate, and retrieve data efficiently."
   ]
  }
 ],
 "metadata": {
  "language_info": {
   "name": "python"
  }
 },
 "nbformat": 4,
 "nbformat_minor": 2
}
