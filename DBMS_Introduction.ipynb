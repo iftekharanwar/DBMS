{
 "cells": [
  {
   "cell_type": "markdown",
   "metadata": {},
   "source": [
    "# Introduction to Databases"
   ]
  },
  {
   "cell_type": "code",
   "execution_count": 8,
   "metadata": {},
   "outputs": [
    {
     "name": "stdout",
     "output_type": "stream",
     "text": [
      "Hello Databases!\n"
     ]
    }
   ],
   "source": [
    "print(\"Hello Databases!\")"
   ]
  },
  {
   "cell_type": "markdown",
   "metadata": {},
   "source": [
    "### DATA : \n",
    "##### \n",
    "* Data is a collection of raw, unorganized facts and details like text, observations, figures, symbols, and descriptions of things etc. In other words, data does not carry any specific purpose and has no significance by itself. Moreover, data is measured in terms of bits and bytes – which are basic units of information in the context of computer storage and processing.\n",
    "* Data can be recorded and doesn’t have any meaning unless processed.\n",
    "\n",
    "### TYPES : \n",
    "####\n",
    "* Quantitative : Numerical form (for example, weight, volume, cost of an item)\n",
    "* Qualitative : Descriptive, but not numerical (for example, name,gender, hair color of a person)"
   ]
  },
  {
   "cell_type": "markdown",
   "metadata": {},
   "source": [
    "# INFORMATION : \n",
    "#### \n",
    "* Info. Is processed, organized, and structured data.\n",
    "* It provides context of the data and enables decision making.\n",
    "* Processed data that make sense to us.\n",
    "* Information is extracted from the data, by analyzing and interpreting pieces of data.\n",
    "* E.g.,you have data of all the people living in your locality, its Data, when you analyze and interpret\n",
    "the data and come to some conclusion that:\n",
    "\n",
    "        i) There are 100 senior citizens.\n",
    "       ii) The sex ratio is 1:1.\n",
    "      iii) Newborn babies are 100.\n",
    "    All these are information.\n"
   ]
  },
  {
   "cell_type": "markdown",
   "metadata": {},
   "source": [
    "# DATA VS INFORMATION\n",
    "####\n",
    "* Data is a collection of facts, while information puts those facts into context.\n",
    "* While data is raw and unorganized, information is organized.\n",
    "* Data points are individual and sometimes unrelated. Information maps out that data to provide a big-picture view of how it all fits.\n",
    "* Data, on its own,is meaningless. When it's analyzed and interpreted, it becomes meaningful information.\n",
    "* Data does not depend on information; however, information depends on data.\n",
    "* Data typically comes in the form of graphs, umbers, figures, or statistics. Information is typically presented through words, language,thoughts, and ideas.\n",
    "* Data isn't sufficient for decision-making, but you can make decisions based on information."
   ]
  },
  {
   "cell_type": "markdown",
   "metadata": {},
   "source": [
    "# DATABASE : \n",
    "####\n",
    "Database is an electronic place/system where data is stored in a way that it can be easily accessed, managed and updated. To make real use Data, we need Database management systems. (DBMS)"
   ]
  },
  {
   "cell_type": "markdown",
   "metadata": {},
   "source": [
    "# DBMS\n",
    "#### \n",
    "* A database-management system (DBMS) is a collection of interrelated data and a set of programs to access those data. The collection of data, usually referred to as the database,\n",
    "contains information relevant to an enterprise. The primary goal of a DBMS is to provide a way to store and retrieve database information that is both convenient and efficient.\n",
    "* A DBMS is the database itself, along with all the software and functionality. It is used to perform different operations, like addition, access, updating, and deletion of the data.\n"
   ]
  },
  {
   "cell_type": "markdown",
   "metadata": {},
   "source": [
    "![Data](https://files.oaiusercontent.com/file-0Dylpej4sDyQyxp7SrYdbxEW?se=2024-03-05T01%3A53%3A37Z&sp=r&sv=2021-08-06&sr=b&rscc=max-age%3D31536000%2C%20immutable&rscd=attachment%3B%20filename%3D0a4d8e59-1903-4b57-b026-988113a81e3a.webp&sig=XfuemR/2wuBtCDboc7ZjDnfg4D7c4yq5lRCBBejMgDw%3D)"
   ]
  },
  {
   "cell_type": "markdown",
   "metadata": {},
   "source": [
    "# DBMS VS FILE SYSTEMS\n",
    "####\n",
    "* File processing system has major disadvantages.\n",
    "  \n",
    "         i) Data redundancy and inconsistency\n",
    "        ii) Difficulty is accessing data\n",
    "       iii) Data isolation\n",
    "        iv) Integrity problems\n",
    "         v) Atomicity problems\n",
    "        vi) Concurrent-access anomalies\n",
    "       vii) Security problems\n",
    "* Above are also advantages of using a DBMS."
   ]
  }
 ],
 "metadata": {
  "kernelspec": {
   "display_name": "Python 3",
   "language": "python",
   "name": "python3"
  },
  "language_info": {
   "codemirror_mode": {
    "name": "ipython",
    "version": 3
   },
   "file_extension": ".py",
   "mimetype": "text/x-python",
   "name": "python",
   "nbconvert_exporter": "python",
   "pygments_lexer": "ipython3",
   "version": "3.12.1"
  }
 },
 "nbformat": 4,
 "nbformat_minor": 2
}
