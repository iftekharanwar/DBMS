{
 "cells": [
  {
   "cell_type": "markdown",
   "metadata": {},
   "source": [
    "# 1. **Basics of the Relational Model**\n",
    "- **Data Organization:** Data is structured in tables, with each table having a unique name.\n",
    "- **Rows and Columns:** Rows (tuples) represent individual records, and columns represent attributes of the data. Each attribute has a domain, which is the set of allowed values.\n",
    "- **Relation Schema:** Describes the structure of a table, including its name and attributes.\n",
    "\n",
    "### 2. **Key Concepts and Terminology**\n",
    "- **Tuple:** A single row in a table, representing a unique data item.\n",
    "- **Degree:** The number of attributes (columns) in a table.\n",
    "- **Cardinality:** The total number of rows (tuples) in a table.\n",
    "- **Relational Key:** A set of attributes that uniquely identifies each row in a table.\n",
    "\n",
    "### 3. **Properties of Tables in RM**\n",
    "- **Distinct Names:** Each table has a unique name.\n",
    "- **Atomic Values:** Attribute values are indivisible.\n",
    "- **Unique Columns:** Each column has a unique name.\n",
    "- **Unique Tuples:** Each row in a table is unique.\n",
    "- **No Significance to Order:** The order of rows and columns is irrelevant.\n",
    "- **Integrity Constraints:** Rules that maintain data consistency and accuracy.\n",
    "\n",
    "### 4. **Relational Model Keys**\n",
    "- **Super Key (SK):** Any combination of attributes that can uniquely identify rows.\n",
    "- **Candidate Key (CK):** A minimal super key; it cannot have redundant attributes.\n",
    "- **Primary Key (PK):** Chosen from the candidate keys to uniquely identify each row.\n",
    "- **Alternate Key (AK):** Candidate keys that are not chosen as the primary key.\n",
    "- **Foreign Key (FK):** An attribute that creates a link between two tables, referencing the primary key in another table.\n",
    "- **Composite Key:** A primary key formed from two or more attributes.\n",
    "- **Surrogate Key:** An artificially created key, usually an auto-incremented number.\n",
    "\n",
    "### 5. **Integrity Constraints**\n",
    "- **Domain Constraints:** Ensure attribute values adhere to specified domains.\n",
    "- **Entity Constraints:** Ensure every table has a primary key that is not null.\n",
    "- **Referential Constraints:** Maintain consistency between linked tables through foreign keys.\n",
    "- **Key Constraints:** Include NOT NULL, UNIQUE, DEFAULT, CHECK, PRIMARY KEY, and FOREIGN KEY constraints, each serving to maintain data integrity and uniqueness.\n",
    "\n",
    "### Conclusion\n",
    "The Relational Model is a powerful framework for managing databases, emphasizing structured data organization, integrity constraints, and the use of keys for entity identification and relationships. Understanding these concepts is crucial for designing, implementing, and maintaining robust and reliable database systems. This model is the basis for Relational Database Management Systems (RDBMS) like Oracle, MySQL, and IBM DB2, which are widely used in various applications for efficient data handling and storage."
   ]
  }
 ],
 "metadata": {
  "language_info": {
   "name": "python"
  }
 },
 "nbformat": 4,
 "nbformat_minor": 2
}
