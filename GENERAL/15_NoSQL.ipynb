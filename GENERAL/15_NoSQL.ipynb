{
 "cells": [
  {
   "cell_type": "markdown",
   "metadata": {},
   "source": [
    "# **NoSQL Basics**\n",
    "- **Definition:** NoSQL databases, also known as \"not only SQL,\" are designed to handle a wide variety of data models, including key-value, document, wide-column, and graph databases. They are schema-free, allowing for dynamic structure adjustments, and are capable of managing large volumes of data efficiently.\n",
    "- **Key Features:** Schema flexibility, horizontal scaling, high availability, and straightforward insert and read operations are prominent among NoSQL databases.\n",
    "\n",
    "### **Advantages of NoSQL Databases**\n",
    "- **Flexible Schema:** Unlike RDBMS which has a predefined schema, NoSQL databases adapt to data changes and structure dynamically.\n",
    "- **Horizontal Scaling:** NoSQL databases can scale out by adding more nodes, making them ideal for distributed systems.\n",
    "- **High Availability:** With features like auto-replication, NoSQL databases ensure data is always accessible, even in the event of server failures.\n",
    "\n",
    "### **When to Use NoSQL**\n",
    "- For agile development environments requiring fast iterations.\n",
    "- When dealing with structured, semi-structured, or unstructured data.\n",
    "- For applications requiring scalability and modern architectures like microservices.\n",
    "\n",
    "### **Common Misconceptions**\n",
    "- **Relationship Data:** It's often believed that NoSQL cannot handle relationship data efficiently, which is false. NoSQL databases can store relationship data but in different formats than relational databases.\n",
    "- **ACID Transactions:** Another misconception is that NoSQL databases do not support ACID transactions. However, databases like MongoDB do support them.\n",
    "\n",
    "### **Types of NoSQL Databases with Examples**\n",
    "- **Key-Value Stores:** Ideal for scenarios requiring fast lookups, such as user sessions. Examples include Redis and Amazon DynamoDB.\n",
    "- **Column-Based Stores:** Suitable for analytics and operations on large datasets. Examples include Cassandra and HBase.\n",
    "- **Document-Based Stores:** These store data in JSON-like formats, making them versatile for various applications. MongoDB and CouchDB are prominent examples.\n",
    "- **Graph-Based Stores:** Focused on relationships between data points, graph databases are used in social networks and fraud detection. Examples include Neo4j and Amazon Neptune.\n",
    "\n",
    "### **Disadvantages**\n",
    "- **Data Redundancy:** NoSQL databases may lead to higher data duplication due to their denormalized nature.\n",
    "- **Update and Delete Operations:** These can be more complex compared to traditional SQL databases.\n",
    "\n",
    "### **SQL vs. NoSQL Comparison**\n",
    "- **Data Storage Model:** SQL uses fixed tables, while NoSQL supports a variety of data models.\n",
    "- **Development History:** SQL was developed in the 1970s, focusing on data duplication reduction. NoSQL emerged in the late 2000s, prioritizing scalability and flexibility for agile development.\n",
    "- **Scaling:** SQL databases scale vertically (more powerful single server), whereas NoSQL databases scale horizontally (more servers).\n",
    "- **ACID Properties:** Generally supported by SQL but not universally in NoSQL databases, with exceptions like MongoDB.\n",
    "  \n",
    "![](https://datasciencedojo.com/wp-content/uploads/SQL-and-NoSQL.jpg)\n",
    "\n",
    "In essence, NoSQL databases offer a flexible, scalable alternative to traditional SQL databases, making them suitable for a wide range of modern applications. However, choosing between SQL and NoSQL depends on the specific requirements of the application, such as the nature of the data, scalability needs, and transactional support."
   ]
  }
 ],
 "metadata": {
  "language_info": {
   "name": "python"
  }
 },
 "nbformat": 4,
 "nbformat_minor": 2
}
