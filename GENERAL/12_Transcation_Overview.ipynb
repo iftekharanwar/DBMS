{
 "cells": [
  {
   "cell_type": "markdown",
   "metadata": {},
   "source": [
    "# Transaction Overview\n",
    "- A **transaction** is a unit of work performed against a database in a logical sequence. It's crucial because the order of operations affects the transaction's outcome.\n",
    "- It is a logical unit that can include one or more SQL statements. A transaction's operations either all succeed, making their changes permanent, or, if any operation fails, the entire transaction is rolled back, undoing all changes.\n",
    "\n",
    "### ACID Properties\n",
    "To maintain data integrity, transactions adhere to the ACID properties:\n",
    "- **Atomicity**: Ensures that all operations within a transaction are completed successfully; if not, the transaction is aborted, and no changes are made.\n",
    "- **Consistency**: The database must remain in a consistent state before and after the transaction, with all integrity constraints satisfied.\n",
    "- **Isolation**: Transactions may run concurrently without being aware of each other, ensuring that each transaction's modifications are isolated until completion.\n",
    "- **Durability**: Once a transaction has been committed, its changes are permanent, even in the event of system failures.\n",
    "\n",
    "### Transaction States\n",
    "The lifecycle of a transaction involves several states:\n",
    "- **Active State**: The initial state where the transaction performs its read and write operations. It moves to the \"Partially Committed\" state if successful or to the \"Failed\" state if an error occurs.\n",
    "- **Partially Committed State**: Changes are saved in the buffer; the transaction will either move to the \"Committed\" state if changes are permanently applied or to the \"Failed\" state in case of issues.\n",
    "- **Committed State**: The transaction's changes are permanently applied to the database, achieving a new consistent state. Rollbacks are not possible from this state.\n",
    "- **Failed State**: Occurs when a transaction cannot continue due to errors. This leads to the \"Aborted\" state.\n",
    "- **Aborted State**: The transaction is rolled back, undoing all changes, and the database is returned to its prior state.\n",
    "- **Terminated State**: The transaction has concluded, either by committing (successful completion) or aborting (rollback due to failure).\n",
    "\n",
    "![e](https://scaler.com/topics/images/transaction-in-dbms-scaler.webp)\n",
    "\n",
    "### Examples\n",
    "- **Atomicity Example**: A bank transaction transferring money from Account A to Account B either completes fully, with both accounts reflecting the transfer, or is rolled back, with neither account showing a change.\n",
    "- **Consistency Example**: Adding a row to a database table with a foreign key constraint would fail if the referenced row in the linked table does not exist, ensuring data consistency.\n",
    "- **Isolation Example**: Two transactions, one updating account balances and another calculating interest, run concurrently without interference, as if they were executed sequentially.\n",
    "- **Durability Example**: After a transaction committing a sales record to a database completes, the record remains persisted even if the system crashes immediately afterward."
   ]
  }
 ],
 "metadata": {
  "language_info": {
   "name": "python"
  }
 },
 "nbformat": 4,
 "nbformat_minor": 2
}
