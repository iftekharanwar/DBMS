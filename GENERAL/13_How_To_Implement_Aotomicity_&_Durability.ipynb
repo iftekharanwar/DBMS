{
 "cells": [
  {
   "cell_type": "markdown",
   "metadata": {},
   "source": [
    "# Shadow-copy Scheme\n",
    "\n",
    "- **Concept**: It involves creating a copy of the database (DB), referred to as the shadow copy, to manage transactions. This scheme assumes that only one transaction is active at a time.\n",
    "- **Process**:\n",
    "  - A transaction that wishes to update the DB first creates a complete copy of the DB.\n",
    "  - All updates are made on this new copy, leaving the original shadow copy untouched.\n",
    "  - If the transaction needs to be aborted, the new copy is deleted, leaving the original copy unaffected.\n",
    "  - Upon successful completion of the transaction, the system ensures all changes in the new copy are saved to the disk, updates a pointer (db-pointer) to point to the new copy, deletes the old copy, and marks the transaction as committed.\n",
    "- **Atomicity** is ensured because if the transaction fails before the db-pointer is updated, the DB remains unchanged. A transaction abort simply involves deleting the new copy.\n",
    "- **Durability** is achieved by committing changes only after ensuring the db-pointer update is successful. If the system fails before this update, the DB reverts to its original state upon restart.\n",
    "\n",
    "**Example**: Consider a banking application where a transaction involves transferring money from Account A to Account B. If the transaction fails or is aborted at any stage before the db-pointer update, Account A's balance remains unchanged, ensuring atomicity. Once the transaction is successfully committed, the db-pointer points to the new copy of the DB with the updated balances, ensuring durability.\n",
    "\n",
    "# Log-based Recovery Methods\n",
    "\n",
    "- **Concept**: This approach uses a log, a sequence of records maintained in stable storage, to recover from failures.\n",
    "- **Types**:\n",
    "  - **Deferred DB Modifications**: Transactions are recorded in the log, but execution of write operations is deferred until the transaction completes. If a transaction is completed, log information is used to execute deferred writes. In case of a system crash before completion, the logs are ignored.\n",
    "  - **Immediate DB Modifications**: Allows DB modifications to be output to the DB while the transaction is still active. In the event of a crash or transaction failure, the system uses the log's old value field to restore modified values.\n",
    "\n",
    "**Example**: In an e-commerce system, an order placement might involve several steps (inventory update, payment processing). Using deferred modifications, all steps are logged but not executed until the entire transaction is complete, ensuring atomicity. If the system crashes during the transaction, the log is used to undo (or redo, if necessary) only the completed transactions, thus ensuring durability and consistency.\n",
    "\n",
    "*NOTE :* These mechanisms ensure that database transactions are processed reliably, maintaining the integrity and persistence of data even in the face of system failures."
   ]
  }
 ],
 "metadata": {
  "language_info": {
   "name": "python"
  }
 },
 "nbformat": 4,
 "nbformat_minor": 2
}
