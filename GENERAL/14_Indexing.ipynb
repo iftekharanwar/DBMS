{
 "cells": [
  {
   "cell_type": "markdown",
   "metadata": {},
   "source": [
    "## What is Indexing?\n",
    "\n",
    "Indexing is employed in databases to enhance performance by reducing the number of disk accesses during query processing. It involves creating a data structure (the index) that quickly locates and accesses data in a database table, particularly benefiting read operations such as SELECT queries and WHERE clauses. An index includes a search key, which may be a primary or candidate key of the table, and a data reference, which is a pointer to the disk block where the key's corresponding value is stored. Although optional, indexing significantly speeds up access and is a secondary means of accessing tuples. Index files are always sorted.\n",
    "\n",
    "### Indexing Methods\n",
    "\n",
    "#### 1. Primary Index (Clustering Index)\n",
    "- This type of index is used when the data file is sequentially ordered by a search key, which also defines the sequential order of the file. Primary indexing can be dense, with an index record for every search key value, or sparse, with index records for only some search key values.\n",
    "- **Example:** If a company recruits many employees across various departments, clustering indexing could be created for all employees belonging to the same department, making data retrieval for department-specific queries more efficient.\n",
    "\n",
    "![Dense](https://media.licdn.com/dms/image/D5612AQFR4bUYSJslSA/article-inline_image-shrink_1000_1488/0/1686623744801?e=1718236800&v=beta&t=iy_5ZG2q2PtOId6wcspKMzNkWNZbZD07V-hJ-c2J36I)\n",
    "\n",
    "![Sparse](https://media.licdn.com/dms/image/D5612AQHnVeqzpefhrQ/article-inline_image-shrink_1000_1488/0/1686623647475?e=1718236800&v=beta&t=JFgKSh7awjpAUfAhbeVuhDsM34KCUsDXEEx2zI5FOYI)\n",
    "\n",
    "#### 2. Secondary Index (Non-Clustering Index)\n",
    "- Applicable when the data file is unsorted, making primary indexing impossible. It can be applied to both key and non-key attributes and is always dense, with the number of entries in the index file equal to the number of records in the data file.\n",
    "- **Example:** In an employee database unsorted by department, a secondary index might be created on the department attribute to facilitate quick searches across departments.\n",
    "\n",
    "![](https://static.javatpoint.com/dbms/images/dbms-indexing-in-dbms_7.png)\n",
    "\n",
    "#### 3. Multi-level Index\n",
    "- An index with two or more levels, utilized when a single-level index becomes so large that even binary search takes considerable time. It breaks down indexing into multiple levels for efficiency.\n",
    "- **Example:** A large employee database might use a multi-level index on employee IDs to expedite search operations, with the first level indexing a range of IDs and the second level providing specific pointers within those ranges.\n",
    "\n",
    "![(https://www.tutorialspoint.com/dbms/images/multi_level_index.png)]\n",
    "\n",
    "### Advantages and Limitations of Indexing\n",
    "\n",
    "**Advantages:**\n",
    "- Faster data access and retrieval.\n",
    "- Reduced IO operations.\n",
    "\n",
    "**Limitations:**\n",
    "- Requires additional space for the index table.\n",
    "- Can decrease performance for INSERT, DELETE, and UPDATE queries due to the need to update the index.\n",
    "\n",
    "In summary, indexing in DBMS is a powerful technique for improving database query performance, with various methods tailored to different data organization and access requirements. Each indexing method has its unique advantages and scenarios where it is most beneficial, alongside inherent trade-offs in terms of space and update performance."
   ]
  }
 ],
 "metadata": {
  "language_info": {
   "name": "python"
  }
 },
 "nbformat": 4,
 "nbformat_minor": 2
}
