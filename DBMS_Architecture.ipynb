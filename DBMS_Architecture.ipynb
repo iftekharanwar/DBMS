{
 "cells": [
  {
   "cell_type": "markdown",
   "metadata": {},
   "source": [
    "# View of Data (Three Schema Architecture)\n",
    "#### \n",
    "* The major purpose of DBMS is to provide users with an abstract view of the data. That is, the system hides certain details of how the data is stored and maintained.\n",
    "* To simplify user interaction with the system, abstraction is applied through several levels of abstraction.\n",
    "* The main objective of three level architecture is to enable multiple users to access the same data with a personalized view while storing the underlying data only once\n",
    "* Physical level / Internal level\n",
    "  \n",
    "     i. The lowest level of abstraction describes how the data are stored.\n",
    "\n",
    "  ii. Low-level data structures used.\n",
    "\n",
    "  iii. It has Physical Schema which describes physical storage of DB."
   ]
  }
 ],
 "metadata": {
  "language_info": {
   "name": "python"
  }
 },
 "nbformat": 4,
 "nbformat_minor": 2
}
