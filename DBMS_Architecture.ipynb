{
 "cells": [
  {
   "cell_type": "markdown",
   "metadata": {},
   "source": [
    "# DBMS Architecture\n",
    "\n",
    "#### 1. **View of Data (Three Schema Architecture)**\n",
    "- **Purpose:** To provide an abstract view of data, hiding storage and maintenance details.\n",
    "- **Levels of Abstraction:** Includes Physical (Internal), Logical (Conceptual), and View (External) levels.\n",
    "  - **Physical Level:** Focuses on how data is stored, including storage structure and data compression.\n",
    "  - **Logical Level:** Describes what data is stored and the relationships among those data, focusing on ease of use.\n",
    "  - **View Level:** Offers personalized views to different users, enhancing interaction and security by hiding irrelevant data.\n",
    "- **Objective:** Allow multiple users to access the same data with personalized views while maintaining a single underlying dataset.\n",
    "\n",
    "#### 2. **Instances and Schemas**\n",
    "- **Instance:** The actual data stored in the database at any moment.\n",
    "- **Schema:** The structural design of a database, which doesn't change frequently unlike data.\n",
    "- **Types of Schemas:** Includes Physical, Logical, and several view schemas (subschemas), with Logical schema being crucial for application programming.\n",
    "\n",
    "#### 3. **Data Models**\n",
    "- **Purpose:** To describe the design of a database at the logical level, including data relationships and constraints.\n",
    "- **Examples:** ER model, Relational Model, object-oriented model, etc.\n",
    "\n",
    "#### 4. **Database Languages**\n",
    "- **DDL (Data Definition Language):** Specifies the database schema and constraints.\n",
    "- **DML (Data Manipulation Language):** Used for querying, inserting, deleting, and updating data.\n",
    "- **SQL:** A common language that combines features of both DDL and DML.\n",
    "\n",
    "#### 5. **Access from Application Programs**\n",
    "- **How:** Applications interact with the database using DML statements through APIs like ODBC (for C) and JDBC (for Java).\n",
    "- **Example:** A banking system accessing the database to generate payrolls.\n",
    "\n",
    "#### 6. **Database Administrator (DBA)**\n",
    "- **Role:** Central control over data and programs that access the data, responsible for schema definition, storage structure, and routine maintenance.\n",
    "\n",
    "#### 7. **DBMS Application Architectures**\n",
    "- **Types:** Includes T1 (all components on the same machine), T2 (client-server model), and T3 (three-tier model, suitable for web applications).\n",
    "- **Advantages of T3:** Scalability, data integrity, and enhanced security.\n",
    "\n",
    "### Key Takeaways\n",
    "- **Three Schema Architecture** helps in managing data abstraction and user interaction efficiently.\n",
    "- **Instances and schemas** distinguish between the actual data at any given time and the overall design of the database.\n",
    "- **Data models** and **database languages** serve as the backbone for structuring and interacting with the database.\n",
    "- **Application program access** and the role of the **DBA** are crucial in maintaining the functionality and security of the database system.\n",
    "- **DBMS architectures** adapt to different application needs, with multi-tier architectures providing scalability and security, especially in web applications.\n",
    "\n",
    "This summary offers a foundational understanding of DBMS architecture, crucial for those studying or working with database systems."
   ]
  }
 ],
 "metadata": {
  "language_info": {
   "name": "python"
  }
 },
 "nbformat": 4,
 "nbformat_minor": 2
}
