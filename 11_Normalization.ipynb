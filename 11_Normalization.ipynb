{
 "cells": [
  {
   "cell_type": "markdown",
   "metadata": {},
   "source": [
    "# 1. **Introduction to Normalization**\n",
    "Normalization is a process used in database optimization to structure data in a way that minimizes redundancy and dependency. It involves dividing a database into multiple tables and defining relationships between them to ensure data consistency and integrity.\n",
    "\n",
    "### 2. **Functional Dependency (FD)**\n",
    "- **Definition:** A relationship where one attribute uniquely determines another. The attribute on the left (determinant) determines the attribute on the right (dependent).\n",
    "- **Types of FD:**\n",
    "  - **Trivial FD:** When the dependent is a subset of the determinant.\n",
    "  - **Non-trivial FD:** When the dependent is not a subset of the determinant.\n",
    "\n",
    "### 3. **Rules of FD (Armstrong's Axioms)**\n",
    "- **Reflexive:** If B is a subset of A, then A determines B.\n",
    "- **Augmentation:** If A determines B, then adding attributes to both sides maintains the dependency.\n",
    "- **Transitivity:** If A determines B and B determines C, then A determines C.\n",
    "\n",
    "### 4. **Normalization Goals and Anomalies**\n",
    "Normalization aims to eliminate data redundancy and the associated anomalies:\n",
    "- **Insertion Anomaly:** Inability to add data to the database due to the absence of other data.\n",
    "- **Deletion Anomaly:** Unintended loss of data due to the deletion of other data.\n",
    "- **Update Anomaly:** The need to update multiple instances of data, leading to potential inconsistencies.\n",
    "\n",
    "### 5. **Normalization Process**\n",
    "Normalization involves structuring a database into tables according to rules defined by normal forms:\n",
    "- **1NF (First Normal Form):** Each table cell must have atomic (indivisible) values, and each record needs to be unique.\n",
    "- **2NF (Second Normal Form):** The table must be in 1NF, and all non-key attributes must be fully functionally dependent on the primary key.\n",
    "- **3NF (Third Normal Form):** The table must be in 2NF, and there should be no transitive dependency for non-prime attributes.\n",
    "- **BCNF (Boyce-Codd Normal Form):** A stricter version of 3NF where every determinant is a candidate key.\n",
    "\n",
    "### 6. **Advantages of Normalization**\n",
    "Normalization provides several benefits, including reduced data redundancy, improved database organization, and enhanced data consistency across the database.\n",
    "\n",
    "### Conclusion\n",
    "Normalization is a critical process in database design that ensures the efficient organization and integrity of data. By applying the principles of functional dependency and normal forms, databases can be designed to minimize redundancy and eliminate the common anomalies that can arise from poorly structured data. This process not only optimizes database performance but also simplifies database maintenance and enhances data integrity."
   ]
  }
 ],
 "metadata": {
  "language_info": {
   "name": "python"
  }
 },
 "nbformat": 4,
 "nbformat_minor": 2
}
