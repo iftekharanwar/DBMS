{
 "cells": [
  {
   "cell_type": "markdown",
   "metadata": {},
   "source": [
    "[Old Materials](https://dbdmg.polito.it/wordpress/teaching/databases/)"
   ]
  },
  {
   "cell_type": "markdown",
   "metadata": {},
   "source": [
    "[New Materials](https://dbdmg.polito.it/dbdmg_web/2022/introduction-data-bases/)"
   ]
  }
 ],
 "metadata": {
  "language_info": {
   "name": "python"
  }
 },
 "nbformat": 4,
 "nbformat_minor": 2
}
