{
 "cells": [
  {
   "cell_type": "markdown",
   "metadata": {},
   "source": [
    "# Entity-Relationship (ER) Model\n",
    "\n",
    "#### 1. **Data Model**\n",
    "- Defined as a collection of conceptual tools for describing data, data relationships, data semantics, and consistency constraints.\n",
    "\n",
    "#### 2. **ER Model Overview**\n",
    "- The ER model is a high-level data model that represents real-world entities and the relationships among them through a graphical representation known as an ER diagram.\n",
    "- **Entities** are objects or things in the real world that are distinguishable from other objects. For example, each student in a college is an entity with physical existence.\n",
    "  - **Strong Entity:** Can be uniquely identified by its own attributes (e.g., a loan).\n",
    "  - **Weak Entity:** Cannot be uniquely identified without relying on a strong entity (e.g., payment installments for a loan).\n",
    "\n",
    "#### 3. **Entity Sets**\n",
    "- An entity set is a collection of similar types of entities. For example, \"Student\" and \"Customer\" are entity sets where each entity shares common attributes.\n",
    "\n",
    "#### 4. **Attributes**\n",
    "- Attributes are properties that describe an entity's characteristics. For example, a Student entity might have attributes like Student_ID, Name, Course, and Contact number.\n",
    "- **Types of Attributes:**\n",
    "  - **Simple:** Cannot be divided further (e.g., student's roll number).\n",
    "  - **Composite:** Can be divided into smaller parts (e.g., a person's name into first, middle, and last names).\n",
    "  - **Single-valued:** Entities have only one value for this attribute (e.g., Student ID).\n",
    "  - **Multi-valued:** Entities can have multiple values (e.g., phone numbers).\n",
    "  - **Derived:** The value is derived from other attributes (e.g., age from date of birth).\n",
    "\n",
    "#### 5. **Relationships**\n",
    "- Relationships represent associations among two or more entities. For example, a \"Person owns a Vehicle\" relationship.\n",
    "- **Types of Relationships:**\n",
    "  - **Strong Relationship:** Between two independent entities.\n",
    "  - **Weak Relationship:** Between a weak entity and its corresponding strong entity.\n",
    "\n",
    "#### 6. **Degree of Relationship**\n",
    "- Refers to the number of entities participating in a relationship. Common degrees include Unary, Binary (most common), and Ternary.\n",
    "\n",
    "#### 7. **Relationships Constraints**\n",
    "- **Mapping Cardinality/Cardinality Ratio:** Describes the number of entities to which another entity can be associated within a relationship.\n",
    "  - **Types:** One-to-One, One-to-Many, Many-to-One, Many-to-Many.\n",
    "- **Participation Constraints:** Indicates whether all or some entities are involved in a relationship.\n",
    "  - **Types:** Partial Participation (not all entities are involved) and Total Participation (each entity must be involved in at least one relationship instance).\n",
    "\n",
    "### Example\n",
    "\n",
    "Imagine a simple ER diagram for a university database:\n",
    "- **Entities:** Student, Course.\n",
    "- **Relationship:** Enrollment (a Student enrolls in a Course).\n",
    "- **Attributes for Student:** Student_ID (Primary Key), Name, Major.\n",
    "- **Attributes for Course:** Course_ID (Primary Key), Course_Name, Credits.\n",
    "- The \"Enrollment\" relationship is a binary relationship with a Many-to-Many cardinality since a student can enroll in many courses, and a course can have many students.\n",
    "\n",
    "### Conclusion\n",
    "\n",
    "The Entity-Relationship Model provides a systematic approach to designing and understanding database structures by clearly defining entities, their attributes, and the relationships among these entities. This model is crucial for creating a database that accurately reflects real-world scenarios, ensuring data integrity and efficiency in data management.\n",
    "\n",
    "![ER Diagram](https://www.conceptdraw.com/How-To-Guide/picture/Entity-Relationship-Diagram-Symbols.png)"
   ]
  }
 ],
 "metadata": {
  "language_info": {
   "name": "python"
  }
 },
 "nbformat": 4,
 "nbformat_minor": 2
}
